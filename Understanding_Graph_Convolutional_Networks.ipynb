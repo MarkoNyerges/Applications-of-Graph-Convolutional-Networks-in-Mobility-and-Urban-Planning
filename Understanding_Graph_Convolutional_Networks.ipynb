{
  "nbformat": 4,
  "nbformat_minor": 0,
  "metadata": {
    "colab": {
      "provenance": []
    },
    "kernelspec": {
      "name": "python3",
      "display_name": "Python 3"
    },
    "language_info": {
      "name": "python"
    }
  },
  "cells": [
    {
      "cell_type": "markdown",
      "source": [
        "# Understanding Graph Convolutional Networks\n",
        "\n",
        "This notebook presents the fundamentals of **Graph Convolutional Networks** (GCNs) and how to implement a basic Architecture, using **Pytorch Geometric** - to set the stage for a real world **Mobility Data Science** problem - where GCNs can be a huge asset.\n",
        "\n",
        "As the name suggests GCNs are capable of processing graph-structured data and can be used for a variety of tasks such as Node-level predictions, edge- prediction or graph-level predictions.\n",
        "\n",
        "In this notebook I will focus on a Node level learning task on randomly generated data to get a feel for GCNs.\n",
        "\n",
        "Let's dive into it!"
      ],
      "metadata": {
        "id": "zfmYQHNihw_L"
      }
    },
    {
      "cell_type": "markdown",
      "source": [
        "## 1. Imports"
      ],
      "metadata": {
        "id": "dVHGyhons2zd"
      }
    },
    {
      "cell_type": "code",
      "source": [
        "# For generating random features and graphs:\n",
        "import numpy as np\n",
        "import networkx as nx\n",
        "\n",
        "# For visualizing the graph:\n",
        "import matplotlib.pyplot as plt\n",
        "\n",
        "# For implementing the GCN model\n",
        "from torch_geometric.utils import from_networkx\n",
        "import torch\n",
        "import torch.nn as nn\n",
        "import torch.optim as optim\n",
        "from torch_geometric.nn import GCNConv\n",
        "from torch_geometric.data import Data"
      ],
      "metadata": {
        "id": "QbkwfJtHs-Mp"
      },
      "execution_count": 2,
      "outputs": []
    },
    {
      "cell_type": "markdown",
      "source": [
        "## Let's generate some random Data for our GCN\n",
        "\n",
        "In this section, I create a Graph for a Node Regression task.\n",
        "The steps are:\n",
        "1. **Drawing random samples** from a normal distribution, which will act as the Features of our Nodes.\n",
        "2. **Constructing the Node Labels** - this variable is simply going to be the linear combination of the node features plus some random noise to add stochasticity.\n",
        "3. **Constructing the Graph** via Networkx in such a way that nodes with similar labels will be connected. In this way, information is not only stored in the individual features but also in the Graph structure. Hopefully, the GCN model can effectively incorporate knowledge from the neighbors - often referred to as **graph knowledge** - during training.\n",
        "\n",
        "**Note**: the following approach is a pretty simple one - Graphs in real life can be much more complicated and nuanced."
      ],
      "metadata": {
        "id": "2OgEe5B2uBMJ"
      }
    },
    {
      "cell_type": "code",
      "source": [
        "# Sampling parameters - Note: SampleSize is basically the number of nodes in the Graph\n",
        "SampleSize = 30\n",
        "FeatureDim = 2\n",
        "\n",
        "# Setting the seed for reproducibility\n",
        "np.random.seed(42)\n",
        "\n",
        "# Generating random features\n",
        "NodeFeatures = np.random.normal(size= FeatureDim * SampleSize, loc=3, scale=1).reshape(-1, FeatureDim)\n",
        "\n",
        "\n",
        "# Generating node labels\n",
        "NodeLabels = NodeFeatures[:,0]*2 + NodeFeatures[:,1]*0.3 + np.random.normal(size=SampleSize, loc=0, scale=0.5)\n",
        "\n",
        "\n",
        "print(f'Here you can see the Features of the first 5 Node: \\n {NodeFeatures[:5,:]}')\n",
        "print(f'\\n And here you can see the first 5 node label what we want to predict: \\n {NodeLabels[:5]}')"
      ],
      "metadata": {
        "colab": {
          "base_uri": "https://localhost:8080/"
        },
        "id": "GaGFsutO1W6A",
        "outputId": "3121ad16-1ba8-4e56-fa13-b6513b7740cb"
      },
      "execution_count": 3,
      "outputs": [
        {
          "output_type": "stream",
          "name": "stdout",
          "text": [
            "Here you can see the Features of the first 5 Node: \n",
            " [[3.49671415 2.8617357 ]\n",
            " [3.64768854 4.52302986]\n",
            " [2.76584663 2.76586304]\n",
            " [4.57921282 3.76743473]\n",
            " [2.53052561 3.54256004]]\n",
            "\n",
            " And here you can see the first 5 node label what we want to predict: \n",
            " [7.6123619  8.55945654 5.80828468 9.69055274 6.53008215]\n"
          ]
        }
      ]
    },
    {
      "cell_type": "markdown",
      "source": [
        "### Creating and visualizing the Graph\n",
        "\n",
        "In this block I initialze a Graph object and iteratively add nodes and edges. The edges are determined via a similarity function in such way that if a pair of nodes are close to each other based on the label then the edge will be set between them. For measuring similarity I used a function that is based on the euclidean distance between pairs - inverting and normalizing it outputs a value between 0 and 1 - where 1 means complete similarity. I set the threshold to 0.5 - **Note**: through this parameter you can control the density of your Graph.\n",
        "\n",
        "\n",
        "Below you can see the Graph colored by Node Labels and positioned by the Spring Layout Algorithm - Note that the position is not directly determined by the Features we originaly created - it depends on the knots determined by the relations between the nodes. As you can see nodes with similar labels (Which are dependent of the Node Features) are connected to each other - and we expect the GCN can use the information, gathered from the adjacent node features to make predictions on the labels."
      ],
      "metadata": {
        "id": "pZzBvuL4B1u0"
      }
    },
    {
      "cell_type": "code",
      "source": [
        "# Create an empty Graph\n",
        "G = nx.Graph()\n",
        "\n",
        "# Adding nodes with labels\n",
        "for i in range(SampleSize):\n",
        "    G.add_node(i, label=NodeLabels[i])\n",
        "\n",
        "\n",
        "# For calculating similarity between nodes - based on euclidean distance\n",
        "def similarity(val1, val2):\n",
        "    euclidean_dist = np.linalg.norm(val1 - val2) # calculating the euclidean distance\n",
        "    return 1 / (1 + euclidean_dist) # inverting and normalizing - in this case values closer to 1 indicate that the nodes are similiar, closer to 0 means they are not so similiar\n",
        "\n",
        "# Adding edges based on similarity\n",
        "for i in range(SampleSize):\n",
        "    for j in range(i+1, SampleSize):\n",
        "        score = similarity(NodeLabels[i], NodeLabels[j])\n",
        "        if 0.5 < score:\n",
        "            G.add_edge(i, j)\n",
        "\n",
        "# Plotting the graph\n",
        "pos = nx.spring_layout(G)  # Positioning nodes using the spring layout algorithm\n",
        "nx.draw(G, pos, node_color=NodeLabels, with_labels=True, cmap=plt.cm.Blues)\n",
        "plt.show()"
      ],
      "metadata": {
        "colab": {
          "base_uri": "https://localhost:8080/",
          "height": 516
        },
        "id": "3K-FVjyb5yr9",
        "outputId": "63602d6e-7cc4-4b5e-9a3c-81b6b22adf6c"
      },
      "execution_count": 4,
      "outputs": [
        {
          "output_type": "display_data",
          "data": {
            "text/plain": [
              "<Figure size 640x480 with 1 Axes>"
            ],
            "image/png": "[encoded data removed]"
          },
          "metadata": {}
        }
      ]
    },
    {
      "cell_type": "markdown",
      "source": [
        "### Let's see how Graph Knowledge looks like in its simplest form\n",
        "\n",
        "In Graph Neural Networks we try to incorporate graph knowledge in our model and for this it's necessary to have information about which nodes are connected and which are not.\n",
        "\n",
        "In this block of code you can see the **Adjacency Matrix** which is an N x N binary matrix and indicates whether an edge is present between two nodes or not. The rows and the columns as well are related to the nodes. A cell is 1 if there is a connection and 0 otherwise.\n",
        "Below you can see a small partition of the Adjacency Matrix."
      ],
      "metadata": {
        "id": "Q35VQjexHZys"
      }
    },
    {
      "cell_type": "code",
      "source": [
        "adjacency_matrix = nx.adjacency_matrix(G).toarray()\n",
        "\n",
        "print(adjacency_matrix.shape)\n",
        "print(adjacency_matrix[:5,:5])"
      ],
      "metadata": {
        "colab": {
          "base_uri": "https://localhost:8080/"
        },
        "id": "8kVjCPNuCp2l",
        "outputId": "db6405b4-60c1-48fd-fc9c-1a42494ee74a"
      },
      "execution_count": 5,
      "outputs": [
        {
          "output_type": "stream",
          "name": "stdout",
          "text": [
            "(30, 30)\n",
            "[[0 1 0 0 0]\n",
            " [1 0 0 0 0]\n",
            " [0 0 0 0 1]\n",
            " [0 0 0 0 0]\n",
            " [0 0 1 0 0]]\n"
          ]
        }
      ]
    },
    {
      "cell_type": "markdown",
      "source": [
        "### The Edge Index\n",
        "\n",
        "Above you can see how the adjacency matrix looks like - however it's not the most efficient way to store connection because of sparsity. An often used object is the Edge Index - PyGs GCN layer also supports this format. The edge index is a 2D array with shape of 2 X Number of edges - where the first row contains the ID of the source nodes and the second row contains the ID of the target nodes. Below you can see how it looks.\n"
      ],
      "metadata": {
        "id": "dfiXhJ1eLOk7"
      }
    },
    {
      "cell_type": "code",
      "source": [
        "edge_index = from_networkx(G).edge_index\n",
        "edge_index.size()\n",
        "edge_index[:,:25]"
      ],
      "metadata": {
        "id": "Q4kig5zhLKPW",
        "colab": {
          "base_uri": "https://localhost:8080/"
        },
        "outputId": "c6646a26-a02f-4927-d62e-58c749557ce1"
      },
      "execution_count": 6,
      "outputs": [
        {
          "output_type": "execute_result",
          "data": {
            "text/plain": [
              "tensor([[ 0,  0,  0,  0,  0,  0,  0,  0,  0,  0,  0,  1,  1,  1,  1,  1,  2,  2,\n",
              "          2,  2,  2,  2,  2,  2,  2],\n",
              "        [ 1,  6, 11, 15, 17, 18, 20, 21, 24, 25, 29,  0, 17, 20, 27, 29,  4,  5,\n",
              "          6,  8, 12, 13, 15, 16, 18]])"
            ]
          },
          "metadata": {},
          "execution_count": 6
        }
      ]
    },
    {
      "cell_type": "markdown",
      "source": [
        "## Message Passing and the Graph Convolutional Layer\n",
        "\n",
        "#### The following block draw heavily from the [Pytorch Geometric documentation](https://pytorch-geometric.readthedocs.io/en/latest/tutorial/create_gnn.html) and [Wiliam Hamilton's book on Graph Neural Network](https://www.cs.mcgill.ca/~wlh/grl_book/files/GRL_Book.pdf).\n",
        "\n",
        "In this section, I outline the basics of the Graph Convolutional Layer. With GCNs, our goal is to incorporate information from neighboring and update the node embeddings with respect to this information. This can be done by a technique known as Message Passing, which involves:\n",
        "\n",
        "1. Collecting the node states from the immediate neighbors.\n",
        "2. Combining the gathered information.\n",
        "3. Updating the node state based on the collected information from the neighbors.\n",
        "\n",
        "This process can be repeated multiple times. Initially, each node stores information about itself and its immediate neighbors after the first Message Passing. With each additional MessagePassing layer, nodes store information about their neighbors' neighbors, and so on. Be careful about applying too many Message Passing layers because it can lead to the phenomenon of over-smoothing - in which case the node characteristics will be excessively conflated.\n",
        "\n",
        "\n",
        "\n",
        "The traditional Graph Neural Network message passing can be written as:\n",
        "\n",
        "\n",
        "$h_{u}^{\\overset{(k)}{} } = \\sigma(W_{self}^{\\overset{k-1}{} }h_{u}^{\\overset{(k)}{} } + W_{neighbors}^{\\overset{k-1}{} }\\sum_{\\substack{v \\in N(u)}} h_{v}^{\\overset{(k-1)}{} } + b^{\\overset{(k)}{} })$\n",
        "\n",
        "\n",
        "#### Below you can see the basic implementation of the Message Passing layer, using pytorch\n"
      ],
      "metadata": {
        "id": "s9f4uT_DJ7rY"
      }
    },
    {
      "cell_type": "code",
      "source": [
        "class SimpleMessagePassing(nn.Module):\n",
        "    def __init__(self, input_dim, gcn_units):\n",
        "        super(SimpleMessagePassing, self).__init__()\n",
        "        self.gcn_units = gcn_units\n",
        "        self.W_self = nn.Parameter(torch.randn(input_dim, gcn_units))\n",
        "        self.W_neighbor = nn.Parameter(torch.randn(input_dim, gcn_units))\n",
        "        self.bias = nn.Parameter(torch.randn(1))\n",
        "\n",
        "    def forward(self, X, adj_matrix):\n",
        "        self_loop = torch.matmul(X, self.W_self)\n",
        "        neighbor_agg = torch.matmul(adj_matrix,X) @ self.W_neighbor\n",
        "        out = self_loop + neighbor_agg + self.bias\n",
        "        return out"
      ],
      "metadata": {
        "id": "mlNBfuA8DXbL"
      },
      "execution_count": 7,
      "outputs": []
    },
    {
      "cell_type": "markdown",
      "source": [
        "# The Graph Convolution\n",
        "\n",
        "As you can see, the logic behind GCNs is to somehow incorporate graph knowledge into the inital node features. This can be done via Message Passing. In the previous block you can see the most basic form where the updated node states are simply the linear combination of the node features and the sum of the neighboring node features.\n",
        "\n",
        "Theres several different variation of aggregating adjacent node features   - one of this is the **Graph Convolution**.\n",
        "\n",
        "The Message Passing function in Graph Convolutional Layer:\n",
        "\n",
        "\n",
        "$h_{u}^{(k)} = \\displaystyle\\sum_{v \\in N(u) \\cup \\{u\\}} \\frac{1}{\\sqrt{|N(u)||N(v)|}} (W_{T}^{(k)} h_v^{(k-1)}) + b$\n",
        "\n",
        "\n",
        "So the  **Graph Convolution** in general looks like this:\n",
        "1. Applying a linear transformation to the features of all the neighboring nodes (including the node itself)\n",
        "2. Normalizing the elements with the degree of the node pairs\n",
        "3. AggregatING the elements\n",
        "4. ApplyING bias\n",
        "\n",
        "\n",
        "For this we will use pytorch geometrics built in GCNConv layer which does all the steps for us."
      ],
      "metadata": {
        "id": "_f76ASOx0nZE"
      }
    },
    {
      "cell_type": "markdown",
      "source": [
        "#### To efficiently use the GCN Layer I store all the necessary data in PyGs Data object."
      ],
      "metadata": {
        "id": "VEVtlbz9Lxv5"
      }
    },
    {
      "cell_type": "code",
      "source": [
        "NodeFeatures = torch.tensor(NodeFeatures,dtype=torch.float32)\n",
        "NodeLabels = torch.tensor(NodeLabels,dtype=torch.float32)\n",
        "#adjacency_matrix = torch.tensor(adjacency_matrix,dtype=torch.float32)"
      ],
      "metadata": {
        "id": "9KbZin7dEKU5"
      },
      "execution_count": 8,
      "outputs": []
    },
    {
      "cell_type": "code",
      "source": [
        "edge_index = from_networkx(G).edge_index\n",
        "data = Data(x = NodeFeatures, edge_index = edge_index,y = NodeLabels)\n",
        "\n",
        "# Train-test split\n",
        "np.random.seed(55)\n",
        "data.train_idx = torch.tensor(np.random.choice(SampleSize,size = round(0.8*SampleSize),replace=False))"
      ],
      "metadata": {
        "id": "6Wt6_MgH9683"
      },
      "execution_count": 33,
      "outputs": []
    },
    {
      "cell_type": "markdown",
      "source": [
        "### Building the Graph Convolutional Model\n",
        "\n",
        "For initiallizing the model we need to specify how many GCN units we would like - which is the dimensions of the weight matrix. Since it is a simple regression task with 1 output variable I set this parameter to 1."
      ],
      "metadata": {
        "id": "U8NdgR6iM3hs"
      }
    },
    {
      "cell_type": "code",
      "source": [
        "class GCNModel(nn.Module):\n",
        "\n",
        "  def __init__(self,gcn_units):\n",
        "    super(GCNModel,self).__init__()\n",
        "    self.gcn = GCNConv(in_channels = FeatureDim, out_channels = gcn_units)\n",
        "    #self.activation = nn.functional.relu\n",
        "\n",
        "  def forward(self,inputs,adjacency):\n",
        "    output = self.gcn(x = inputs, edge_index = adjacency)\n",
        "    #output = self.activation(output)\n",
        "    return output\n",
        "\n",
        "SimpleModel = GCNModel(gcn_units = 1)"
      ],
      "metadata": {
        "id": "ALTa6Ke01s4V"
      },
      "execution_count": 34,
      "outputs": []
    },
    {
      "cell_type": "markdown",
      "source": [
        "#### Initializing the loss function and the optimizer"
      ],
      "metadata": {
        "id": "MjvYjaMkOWdp"
      }
    },
    {
      "cell_type": "code",
      "source": [
        "loss_function = nn.MSELoss()\n",
        "optimizer = optim.Adam(SimpleModel.parameters(),lr=0.1)"
      ],
      "metadata": {
        "id": "uR9M7lVX6ccN"
      },
      "execution_count": 35,
      "outputs": []
    },
    {
      "cell_type": "code",
      "source": [
        "def train():\n",
        "  SimpleModel.train()\n",
        "  optimizer.zero_grad()\n",
        "  out = SimpleModel(data.x,data.edge_index)  # Perform a single forward pass.\n",
        "  loss = loss_function(out[data.train_idx], data.y[data.train_idx])  # Compute the loss solely based on the training nodes.\n",
        "  loss.backward()  # Derive gradients.\n",
        "  optimizer.step()  # Update parameters based on gradients.\n",
        "  return loss\n",
        "\n",
        "def test():\n",
        "  SimpleModel.eval()\n",
        "  out = SimpleModel(data.x, data.edge_index)\n",
        "  loss =loss_function(out[~data.train_idx],data.y[~data.train_idx])\n",
        "  return loss"
      ],
      "metadata": {
        "id": "o-t9gSn1ypGM"
      },
      "execution_count": 36,
      "outputs": []
    },
    {
      "cell_type": "markdown",
      "source": [
        "### Training the model for 100 epochs\n",
        "\n",
        "During training I store the train and test loss for model evaluation"
      ],
      "metadata": {
        "id": "CRzDBXJaHoOZ"
      }
    },
    {
      "cell_type": "code",
      "source": [
        "train_loss = []\n",
        "val_loss = []\n",
        "num_epochs = 100\n",
        "\n",
        "for epoch in range(1, num_epochs+1):\n",
        "    loss = train()\n",
        "    test_loss = test()\n",
        "    train_loss.append(loss.item())\n",
        "    val_loss.append(test_loss.item())\n",
        "\n",
        "    if epoch % 2 == 0:\n",
        "      print(f'Epoch: {epoch:03d}, Loss: {loss:.4f},test loss:{test_loss}')"
      ],
      "metadata": {
        "colab": {
          "base_uri": "https://localhost:8080/"
        },
        "id": "p86CGhFfz-Ua",
        "outputId": "2b419bf2-a9e6-409e-e5dc-626db6b7dac4"
      },
      "execution_count": 37,
      "outputs": [
        {
          "output_type": "stream",
          "name": "stdout",
          "text": [
            "Epoch: 002, Loss: 79.6093,test loss:63.65337371826172\n",
            "Epoch: 004, Loss: 57.8169,test loss:45.003604888916016\n",
            "Epoch: 006, Loss: 39.9794,test loss:30.12894058227539\n",
            "Epoch: 008, Loss: 26.0826,test loss:18.95197296142578\n",
            "Epoch: 010, Loss: 15.9773,test loss:11.251171112060547\n",
            "Epoch: 012, Loss: 9.3503,test loss:6.63767671585083\n",
            "Epoch: 014, Loss: 5.7086,test loss:4.553556442260742\n",
            "Epoch: 016, Loss: 4.3947,test loss:4.306789398193359\n",
            "Epoch: 018, Loss: 4.6457,test loss:5.149564266204834\n",
            "Epoch: 020, Loss: 5.6938,test loss:6.3864030838012695\n",
            "Epoch: 022, Loss: 6.8818,test loss:7.477879047393799\n",
            "Epoch: 024, Loss: 7.7541,test loss:8.10266399383545\n",
            "Epoch: 026, Loss: 8.0910,test loss:8.160320281982422\n",
            "Epoch: 028, Loss: 7.8829,test loss:7.724400043487549\n",
            "Epoch: 030, Loss: 7.2658,test loss:6.970724105834961\n",
            "Epoch: 032, Loss: 6.4428,test loss:6.105307579040527\n",
            "Epoch: 034, Loss: 5.6161,test loss:5.307664394378662\n",
            "Epoch: 036, Loss: 4.9389,test loss:4.696386337280273\n",
            "Epoch: 038, Loss: 4.4920,test loss:4.3176774978637695\n",
            "Epoch: 040, Loss: 4.2827,test loss:4.153459072113037\n",
            "Epoch: 042, Loss: 4.2621,test loss:4.1428375244140625\n",
            "Epoch: 044, Loss: 4.3510,test loss:4.208994388580322\n",
            "Epoch: 046, Loss: 4.4686,test loss:4.283483028411865\n",
            "Epoch: 048, Loss: 4.5535,test loss:4.321993350982666\n",
            "Epoch: 050, Loss: 4.5750,test loss:4.309197902679443\n",
            "Epoch: 052, Loss: 4.5322,test loss:4.253989219665527\n",
            "Epoch: 054, Loss: 4.4454,test loss:4.178978443145752\n",
            "Epoch: 056, Loss: 4.3438,test loss:4.108852863311768\n",
            "Epoch: 058, Loss: 4.2534,test loss:4.061378002166748\n",
            "Epoch: 060, Loss: 4.1904,test loss:4.043062686920166\n",
            "Epoch: 062, Loss: 4.1582,test loss:4.049617290496826\n",
            "Epoch: 064, Loss: 4.1504,test loss:4.069821834564209\n",
            "Epoch: 066, Loss: 4.1553,test loss:4.090701103210449\n",
            "Epoch: 068, Loss: 4.1612,test loss:4.102004051208496\n",
            "Epoch: 070, Loss: 4.1601,test loss:4.098694801330566\n",
            "Epoch: 072, Loss: 4.1494,test loss:4.081151008605957\n",
            "Epoch: 074, Loss: 4.1308,test loss:4.053597927093506\n",
            "Epoch: 076, Loss: 4.1085,test loss:4.0217695236206055\n",
            "Epoch: 078, Loss: 4.0870,test loss:3.990777015686035\n",
            "Epoch: 080, Loss: 4.0693,test loss:3.9638290405273438\n",
            "Epoch: 082, Loss: 4.0561,test loss:3.9419806003570557\n",
            "Epoch: 084, Loss: 4.0464,test loss:3.924672842025757\n",
            "Epoch: 086, Loss: 4.0384,test loss:3.910618782043457\n",
            "Epoch: 088, Loss: 4.0302,test loss:3.898595094680786\n",
            "Epoch: 090, Loss: 4.0206,test loss:3.8878800868988037\n",
            "Epoch: 092, Loss: 4.0096,test loss:3.8782739639282227\n",
            "Epoch: 094, Loss: 3.9976,test loss:3.8698506355285645\n",
            "Epoch: 096, Loss: 3.9853,test loss:3.8626322746276855\n",
            "Epoch: 098, Loss: 3.9735,test loss:3.8563754558563232\n",
            "Epoch: 100, Loss: 3.9624,test loss:3.850529670715332\n"
          ]
        }
      ]
    },
    {
      "cell_type": "markdown",
      "source": [
        "### Let's look at the loss over epochs\n",
        "\n",
        "As you can see the training was pretty stable and the model was able to converge. **Note**: The initial problem was somewhat easy to solve - training neural nets on real data can be much more challanging."
      ],
      "metadata": {
        "id": "rS8opxcOICaR"
      }
    },
    {
      "cell_type": "code",
      "source": [
        "plt.plot([*range(num_epochs)],train_loss)\n",
        "plt.plot([*range(num_epochs)],val_loss)\n",
        "plt.legend([\"Train\",\"Test\"])"
      ],
      "metadata": {
        "colab": {
          "base_uri": "https://localhost:8080/",
          "height": 447
        },
        "id": "CmCkuyP3Wk0W",
        "outputId": "90edec81-56f7-4bfe-cbba-c5b4a31313f2"
      },
      "execution_count": 38,
      "outputs": [
        {
          "output_type": "execute_result",
          "data": {
            "text/plain": [
              "<matplotlib.legend.Legend at 0x7b945ab579d0>"
            ]
          },
          "metadata": {},
          "execution_count": 38
        },
        {
          "output_type": "display_data",
          "data": {
            "text/plain": [
              "<Figure size 640x480 with 1 Axes>"
            ],
            "image/png": "[encoded data removed]"
          },
          "metadata": {}
        }
      ]
    }
  ]
}